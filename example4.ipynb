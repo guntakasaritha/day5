{
 "cells": [
  {
   "cell_type": "code",
   "execution_count": 1,
   "id": "8276226e-bfaf-4904-adf4-1b86a0060395",
   "metadata": {},
   "outputs": [
    {
     "ename": "NameError",
     "evalue": "name 'title' is not defined",
     "output_type": "error",
     "traceback": [
      "\u001b[1;31m---------------------------------------------------------------------------\u001b[0m",
      "\u001b[1;31mNameError\u001b[0m                                 Traceback (most recent call last)",
      "Cell \u001b[1;32mIn[1], line 5\u001b[0m\n\u001b[0;32m      3\u001b[0m         \u001b[38;5;28;01mreturn\u001b[39;00m \u001b[38;5;124mf\u001b[39m\u001b[38;5;124m\"\u001b[39m\u001b[38;5;124mhello, \u001b[39m\u001b[38;5;132;01m{\u001b[39;00mtitle\u001b[38;5;132;01m}\u001b[39;00m\u001b[38;5;132;01m{\u001b[39;00mname\u001b[38;5;132;01m}\u001b[39;00m\u001b[38;5;124m\"\u001b[39m\n\u001b[0;32m      4\u001b[0m     \u001b[38;5;28;01mreturn\u001b[39;00m greet\n\u001b[1;32m----> 5\u001b[0m ms_greet\u001b[38;5;241m=\u001b[39m title(\u001b[38;5;124m\"\u001b[39m\u001b[38;5;124mms.\u001b[39m\u001b[38;5;124m\"\u001b[39m)\n\u001b[0;32m      6\u001b[0m dr_greet\u001b[38;5;241m=\u001b[39m title(\u001b[38;5;124m\"\u001b[39m\u001b[38;5;124mdr.\u001b[39m\u001b[38;5;124m\"\u001b[39m)\n\u001b[0;32m      7\u001b[0m \u001b[38;5;28mprint\u001b[39m(ms_greet(\u001b[38;5;124m\"\u001b[39m\u001b[38;5;124msaritha\u001b[39m\u001b[38;5;124m\"\u001b[39m))\n",
      "\u001b[1;31mNameError\u001b[0m: name 'title' is not defined"
     ]
    }
   ],
   "source": [
    "def titled(title):\n",
    "    def greet(name):\n",
    "        return f\"hello, {title}{name}\"\n",
    "    return greet\n",
    "ms_greet= title(\"ms.\")\n",
    "dr_greet= title(\"dr.\")\n",
    "print(ms_greet(\"saritha\"))\n",
    "print(dr_greet(\"rahul\"))"
   ]
  },
  {
   "cell_type": "code",
   "execution_count": 3,
   "id": "bae6ab78-1693-421a-aa04-45258930c3f7",
   "metadata": {},
   "outputs": [
    {
     "name": "stdout",
     "output_type": "stream",
     "text": [
      "hello, ms.saritha\n",
      "hello, dr.rahul\n"
     ]
    }
   ],
   "source": [
    "def titled(title):\n",
    "    def greet(name):\n",
    "        return f\"hello, {title}{name}\"\n",
    "    return greet\n",
    "ms_greet= titled(\"ms.\")\n",
    "dr_greet= titled(\"dr.\")\n",
    "print(ms_greet(\"saritha\"))\n",
    "print(dr_greet(\"rahul\"))"
   ]
  },
  {
   "cell_type": "code",
   "execution_count": 1,
   "id": "cc834fc5-586f-4127-8e2b-93b5659facec",
   "metadata": {},
   "outputs": [
    {
     "name": "stdout",
     "output_type": "stream",
     "text": [
      "locally  32\n",
      "locally  32\n",
      "x= 100\n",
      "latest value of y globally: 25\n",
      "globally 125\n"
     ]
    }
   ],
   "source": [
    "x= 100\n",
    "y=10\n",
    "def display():\n",
    "    x=22\n",
    "    print(\"locally \", x+y)\n",
    "    print(\"locally \", x+y)\n",
    "display()\n",
    "print(\"x=\", x)\n",
    "y=10\n",
    "y=25\n",
    "print('latest value of y globally:',y)\n",
    "print('globally',x+y)"
   ]
  },
  {
   "cell_type": "code",
   "execution_count": 5,
   "id": "3c3b4617-60f8-4f9a-91fb-ed6d1b15a4d4",
   "metadata": {},
   "outputs": [
    {
     "name": "stdin",
     "output_type": "stream",
     "text": [
      "enter marks of a subject: 12\n"
     ]
    },
    {
     "name": "stdout",
     "output_type": "stream",
     "text": [
      "subject1 marks : 12\n"
     ]
    },
    {
     "name": "stdin",
     "output_type": "stream",
     "text": [
      "enter marks of a subject: 34\n"
     ]
    },
    {
     "name": "stdout",
     "output_type": "stream",
     "text": [
      "subject2 marks : 34\n"
     ]
    },
    {
     "name": "stdin",
     "output_type": "stream",
     "text": [
      "enter marks of a subject: 56\n"
     ]
    },
    {
     "name": "stdout",
     "output_type": "stream",
     "text": [
      "subject3 marks : 56\n",
      "total marks stored in global: 102\n"
     ]
    }
   ],
   "source": [
    "total=0\n",
    "def add_subject_marks():\n",
    "    global total\n",
    "    marks= int(input(\"enter marks of a subject:\"))\n",
    "    total+=marks\n",
    "    return marks\n",
    "print(\"subject1 marks :\", add_subject_marks())\n",
    "print(\"subject2 marks :\", add_subject_marks())\n",
    "print(\"subject3 marks :\", add_subject_marks())\n",
    "print(\"total marks stored in global:\", total)"
   ]
  },
  {
   "cell_type": "code",
   "execution_count": null,
   "id": "d6f82553-606e-4765-a348-6fa17596a89b",
   "metadata": {},
   "outputs": [],
   "source": []
  }
 ],
 "metadata": {
  "kernelspec": {
   "display_name": "Python 3 (ipykernel)",
   "language": "python",
   "name": "python3"
  },
  "language_info": {
   "codemirror_mode": {
    "name": "ipython",
    "version": 3
   },
   "file_extension": ".py",
   "mimetype": "text/x-python",
   "name": "python",
   "nbconvert_exporter": "python",
   "pygments_lexer": "ipython3",
   "version": "3.12.7"
  }
 },
 "nbformat": 4,
 "nbformat_minor": 5
}
