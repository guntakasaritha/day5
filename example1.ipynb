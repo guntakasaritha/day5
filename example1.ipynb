{
 "cells": [
  {
   "cell_type": "code",
   "execution_count": 1,
   "id": "25a31574-75af-49c0-b13b-921ecc9cdc55",
   "metadata": {},
   "outputs": [
    {
     "name": "stdout",
     "output_type": "stream",
     "text": [
      "hello, rahul reddy!!!!!!\n"
     ]
    }
   ],
   "source": [
    "def greet(text):\n",
    "    def inner(name):\n",
    "        return f\"{text}, {name}!!!!!!\"\n",
    "    return inner\n",
    "hi= greet('hello')\n",
    "print(hi('rahul reddy'))"
   ]
  },
  {
   "cell_type": "code",
   "execution_count": 1,
   "id": "b5ab6959-343a-46cd-ae37-f043ee04b669",
   "metadata": {},
   "outputs": [
    {
     "name": "stdout",
     "output_type": "stream",
     "text": [
      "10\n",
      "30\n"
     ]
    }
   ],
   "source": [
    "def mul_by(n):\n",
    "    def inner(x): # call inner function x=5\n",
    "        return x*n     # x*2   x*3\n",
    "    return inner\n",
    "times_2= mul_by(2) #n=2\n",
    "times_3= mul_by(3) #n=3\n",
    "print(times_2(5))\n",
    "print(times_3(10))\n"
   ]
  },
  {
   "cell_type": "code",
   "execution_count": null,
   "id": "a8f01077-4386-4a62-a275-7dc4353ceaeb",
   "metadata": {},
   "outputs": [],
   "source": []
  }
 ],
 "metadata": {
  "kernelspec": {
   "display_name": "Python 3 (ipykernel)",
   "language": "python",
   "name": "python3"
  },
  "language_info": {
   "codemirror_mode": {
    "name": "ipython",
    "version": 3
   },
   "file_extension": ".py",
   "mimetype": "text/x-python",
   "name": "python",
   "nbconvert_exporter": "python",
   "pygments_lexer": "ipython3",
   "version": "3.12.7"
  }
 },
 "nbformat": 4,
 "nbformat_minor": 5
}
