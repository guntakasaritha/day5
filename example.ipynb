{
 "cells": [
  {
   "cell_type": "code",
   "execution_count": 1,
   "id": "25a31574-75af-49c0-b13b-921ecc9cdc55",
   "metadata": {},
   "outputs": [
    {
     "name": "stdout",
     "output_type": "stream",
     "text": [
      "hello, rahul reddy!!!!!!\n"
     ]
    }
   ],
   "source": [
    "def greet(text):\n",
    "    def inner(name):\n",
    "        return f\"{text}, {name}!!!!!!\"\n",
    "    return inner\n",
    "hi= greet('hello')\n",
    "print(hi('rahul reddy'))"
   ]
  },
  {
   "cell_type": "code",
   "execution_count": null,
   "id": "b5ab6959-343a-46cd-ae37-f043ee04b669",
   "metadata": {},
   "outputs": [],
   "source": []
  }
 ],
 "metadata": {
  "kernelspec": {
   "display_name": "Python 3 (ipykernel)",
   "language": "python",
   "name": "python3"
  },
  "language_info": {
   "codemirror_mode": {
    "name": "ipython",
    "version": 3
   },
   "file_extension": ".py",
   "mimetype": "text/x-python",
   "name": "python",
   "nbconvert_exporter": "python",
   "pygments_lexer": "ipython3",
   "version": "3.12.7"
  }
 },
 "nbformat": 4,
 "nbformat_minor": 5
}
