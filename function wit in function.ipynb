{
 "cells": [
  {
   "cell_type": "code",
   "execution_count": null,
   "id": "5aa23e2d-9def-4b92-92b1-b2472d43d07f",
   "metadata": {},
   "outputs": [],
   "source": [
    "def outer():\n",
    "    print(\"this is a outer function ......\")\n",
    "    def inner():\n",
    "        print(\"this is an inner function......\")\n",
    "    inner()\n",
    "outer()"
   ]
  }
 ],
 "metadata": {
  "kernelspec": {
   "display_name": "Python 3 (ipykernel)",
   "language": "python",
   "name": "python3"
  },
  "language_info": {
   "codemirror_mode": {
    "name": "ipython",
    "version": 3
   },
   "file_extension": ".py",
   "mimetype": "text/x-python",
   "name": "python",
   "nbconvert_exporter": "python",
   "pygments_lexer": "ipython3",
   "version": "3.12.7"
  }
 },
 "nbformat": 4,
 "nbformat_minor": 5
}
