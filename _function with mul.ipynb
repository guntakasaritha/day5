{
 "cells": [
  {
   "cell_type": "code",
   "execution_count": null,
   "id": "2179ca1b-c035-4ba9-8ee9-f81dcd531766",
   "metadata": {},
   "outputs": [],
   "source": [
    "def mul_by(n):\n",
    "    def inner(x):\n",
    "        return x*n\n",
    "    return inner\n",
    "times_2= mul_by(2)\n",
    "times_3= mul_by(3)\n",
    "print(times_2(5))\n",
    "print(times_3(10))\n"
   ]
  }
 ],
 "metadata": {
  "kernelspec": {
   "display_name": "Python 3 (ipykernel)",
   "language": "python",
   "name": "python3"
  },
  "language_info": {
   "codemirror_mode": {
    "name": "ipython",
    "version": 3
   },
   "file_extension": ".py",
   "mimetype": "text/x-python",
   "name": "python",
   "nbconvert_exporter": "python",
   "pygments_lexer": "ipython3",
   "version": "3.12.7"
  }
 },
 "nbformat": 4,
 "nbformat_minor": 5
}
